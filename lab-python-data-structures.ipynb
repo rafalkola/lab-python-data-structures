{
 "cells": [
  {
   "cell_type": "markdown",
   "metadata": {
    "tags": []
   },
   "source": [
    "# Lab | Data Structures "
   ]
  },
  {
   "cell_type": "markdown",
   "metadata": {},
   "source": [
    "## Exercise: Managing Customer Orders\n",
    "\n",
    "As part of a business venture, you are starting an online store that sells various products. To ensure smooth operations, you need to develop a program that manages customer orders and inventory.\n",
    "\n",
    "Follow the steps below to complete the exercise:\n",
    "\n",
    "1. Define a list called `products` that contains the following items: \"t-shirt\", \"mug\", \"hat\", \"book\", \"keychain\".\n",
    "\n",
    "2. Create an empty dictionary called `inventory`.\n",
    "\n",
    "3. Ask the user to input the quantity of each product available in the inventory. Use the product names from the `products` list as keys in the `inventory` dictionary and assign the respective quantities as values.\n",
    "\n",
    "4. Create an empty set called `customer_orders`.\n",
    "\n",
    "5. Ask the user to input the name of three products that a customer wants to order (from those in the products list, meaning three products out of \"t-shirt\", \"mug\", \"hat\", \"book\" or \"keychain\". Add each product name to the `customer_orders` set.\n",
    "\n",
    "6. Print the products in the `customer_orders` set.\n",
    "\n",
    "7. Calculate the following order statistics:\n",
    "   - Total Products Ordered: The total number of products in the `customer_orders` set.\n",
    "   - Percentage of Products Ordered: The percentage of products ordered compared to the total available products.\n",
    "   \n",
    "   Store these statistics in a tuple called `order_status`.\n",
    "\n",
    "8. Print the order statistics using the following format:\n",
    "   ```\n",
    "   Order Statistics:\n",
    "   Total Products Ordered: <total_products_ordered>\n",
    "   Percentage of Products Ordered: <percentage_ordered>% \n",
    "   ```\n",
    "\n",
    "9. Update the inventory by subtracting 1 from the quantity of each product. Modify the `inventory` dictionary accordingly.\n",
    "\n",
    "10. Print the updated inventory, displaying the quantity of each product on separate lines.\n",
    "\n",
    "Solve the exercise by implementing the steps using the Python concepts of lists, dictionaries, sets, and basic input/output operations. "
   ]
  },
  {
   "cell_type": "code",
   "execution_count": null,
   "metadata": {},
   "outputs": [],
   "source": [
    "products = [\"t-shirt\", \"mug\", \"hat\", \"book\", \"keychain\"]\n",
    "\n",
    "inventory = {}\n",
    "\n",
    "quantity_of_tshirts = int(input('Please enter the amount of t-shirts'))\n",
    "inventory['t-shirt'] = quantity_of_tshirts\n",
    "\n",
    "quantity_of_mugs = int(input('Please enter the amount of mugs'))\n",
    "inventory['mug'] = quantity_of_mugs\n",
    "\n",
    "quantity_of_hats = int(input('Please enter the amount of hats'))\n",
    "inventory['hat'] = quantity_of_hats\n",
    "\n",
    "quantity_of_books = int(input('Please enter the amount of books'))\n",
    "inventory['book'] = quantity_of_books\n",
    "\n",
    "quantity_of_keychains = int(input('Please enter the amount of keychains'))\n",
    "inventory['keychain'] = quantity_of_keychains\n",
    "\n",
    "customer_orders = set()\n",
    "\n",
    "product1 = input('Please enter product number 1')\n",
    "customer_orders.add(product1)\n",
    "\n",
    "product2 = input('Please enter product number 2')\n",
    "customer_orders.add(product2)\n",
    "\n",
    "product3 = input('Please enter product number 3')\n",
    "customer_orders.add(product3)\n",
    "\n",
    "print(customer_orders)\n",
    "\n",
    "products_ordered = len(customer_orders)\n",
    "percentage_ordered = (products_ordered / len(products)) * 100\n",
    "\n",
    "order_status = (products_ordered, percentage_ordered)\n",
    "\n",
    "print('Order statistics:')\n",
    "print(f'Total products ordered: {products_ordered}')\n",
    "print(f'Percentage of Products Ordered: {percentage_ordered}%')\n",
    "\n",
    "ordered_list = list(customer_orders)  \n",
    "inventory[ordered_list[0]] = max(0, inventory[ordered_list[0]] - 1)\n",
    "inventory[ordered_list[1]] = max(0, inventory[ordered_list[1]] - 1)\n",
    "inventory[ordered_list[2]] = max(0, inventory[ordered_list[2]] - 1)\n",
    "\n",
    "print('Updated Inventory:')\n",
    "print(f\"{products[0]}: {inventory[products[0]]}\")\n",
    "print(f\"{products[1]}: {inventory[products[1]]}\")\n",
    "print(f\"{products[2]}: {inventory[products[2]]}\")\n",
    "print(f\"{products[3]}: {inventory[products[3]]}\")\n",
    "print(f\"{products[4]}: {inventory[products[4]]}\")\n"
   ]
  }
 ],
 "metadata": {
  "kernelspec": {
   "display_name": "base",
   "language": "python",
   "name": "python3"
  },
  "language_info": {
   "codemirror_mode": {
    "name": "ipython",
    "version": 3
   },
   "file_extension": ".py",
   "mimetype": "text/x-python",
   "name": "python",
   "nbconvert_exporter": "python",
   "pygments_lexer": "ipython3",
   "version": "3.12.7"
  }
 },
 "nbformat": 4,
 "nbformat_minor": 4
}
